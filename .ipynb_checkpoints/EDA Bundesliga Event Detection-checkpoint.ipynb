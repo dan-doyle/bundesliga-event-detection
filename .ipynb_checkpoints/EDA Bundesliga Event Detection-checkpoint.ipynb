{
 "cells": [
  {
   "cell_type": "code",
   "execution_count": null,
   "id": "ab44bf8a-b96f-4ca5-96bb-08f976aa6e6f",
   "metadata": {},
   "outputs": [],
   "source": [
    "import pandas as pd\n",
    "import numpy as np\n",
    "import matplotlib.pyplot as plt\n",
    "import cv2"
   ]
  },
  {
   "cell_type": "code",
   "execution_count": null,
   "id": "a679a5cf-375d-4ede-a61b-857db63636f3",
   "metadata": {},
   "outputs": [],
   "source": [
    "train = pd.read_csv('../dfl-bundesliga-data-shootout/train.csv')"
   ]
  },
  {
   "cell_type": "code",
   "execution_count": null,
   "id": "d0403677-3e80-4bb4-9684-842003627677",
   "metadata": {},
   "outputs": [],
   "source": [
    "train.head()"
   ]
  },
  {
   "cell_type": "code",
   "execution_count": null,
   "id": "82db38b0-9a02-4b60-81a8-1a773deb6334",
   "metadata": {},
   "outputs": [],
   "source": [
    "train['video_id'].value_counts()"
   ]
  },
  {
   "cell_type": "code",
   "execution_count": null,
   "id": "1cb27d50-ad1c-48e1-9776-e91dcf3b99c2",
   "metadata": {},
   "outputs": [],
   "source": [
    "train.query('event not in [\"start\", \"end\"]'). groupby('video_id')['event'].value_counts().unstack().sort_values('play').plot(kind='barh', title='Event Count Per Video')\n",
    "plt.show()"
   ]
  },
  {
   "cell_type": "code",
   "execution_count": null,
   "id": "67f6d5f3-239d-4e32-bb11-0bcb1f5e1a92",
   "metadata": {},
   "outputs": [],
   "source": []
  }
 ],
 "metadata": {
  "kernelspec": {
   "display_name": "Python 3 (ipykernel)",
   "language": "python",
   "name": "python3"
  },
  "language_info": {
   "codemirror_mode": {
    "name": "ipython",
    "version": 3
   },
   "file_extension": ".py",
   "mimetype": "text/x-python",
   "name": "python",
   "nbconvert_exporter": "python",
   "pygments_lexer": "ipython3",
   "version": "3.11.0"
  }
 },
 "nbformat": 4,
 "nbformat_minor": 5
}
